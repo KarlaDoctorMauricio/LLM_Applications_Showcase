{
 "cells": [
  {
   "cell_type": "markdown",
   "metadata": {},
   "source": [
    "# Multi-Model Streaming Response Interface OpenAI, Claude, Gemini, Ollama con Gradio"
   ]
  },
  {
   "cell_type": "code",
   "execution_count": 1,
   "metadata": {},
   "outputs": [
    {
     "name": "stderr",
     "output_type": "stream",
     "text": [
      "C:\\Users\\52477\\AppData\\Local\\Packages\\PythonSoftwareFoundation.Python.3.9_qbz5n2kfra8p0\\LocalCache\\local-packages\\Python39\\site-packages\\tqdm\\auto.py:21: TqdmWarning: IProgress not found. Please update jupyter and ipywidgets. See https://ipywidgets.readthedocs.io/en/stable/user_install.html\n",
      "  from .autonotebook import tqdm as notebook_tqdm\n"
     ]
    }
   ],
   "source": [
    "from openai import OpenAI\n",
    "import google.generativeai\n",
    "import anthropic\n",
    "import ollama\n",
    "from dotenv import load_dotenv\n",
    "import os\n",
    "import gradio as gr"
   ]
  },
  {
   "cell_type": "markdown",
   "metadata": {},
   "source": [
    "## Configure api connections"
   ]
  },
  {
   "cell_type": "code",
   "execution_count": 2,
   "metadata": {},
   "outputs": [],
   "source": [
    "load_dotenv()\n",
    "openai  = os.getenv(\"OPENAI_API_KEY\")\n",
    "claude  = os.getenv(\"ANTHROPIC_API_KEY\")\n",
    "gemini  = os.getenv(\"GOOGLE_API_KEY\")\n",
    "\n",
    "openai_model = \"gpt-4o-mini\"\n",
    "claude_model = \"claude-3-haiku-20240307\"\n",
    "gemini_model = \"gemini-1.5-flash\"\n",
    "ollama_model = \"llama3.2\"\n",
    "\n",
    "openai = OpenAI()\n",
    "claude = anthropic.Anthropic()\n",
    "gemini = google.generativeai.configure()"
   ]
  },
  {
   "cell_type": "markdown",
   "metadata": {},
   "source": [
    "## Multi model response (streaming mode)"
   ]
  },
  {
   "cell_type": "code",
   "execution_count": 3,
   "metadata": {},
   "outputs": [],
   "source": [
    "system_prompt = f\"\"\"You are a chat that responds in a very friendly tone\"\"\"\n",
    "\n",
    "def stream_openai(user_prompt):\n",
    "    \"\"\"\n",
    "    Function to generate a response from OpenAI model based on the provided user prompt.\n",
    "    \n",
    "    Args:\n",
    "    user_prompt (str): The user's input to be processed by OpenAI.\n",
    "\n",
    "    Returns:\n",
    "    str: The generated response from OpenAI model in a streaming fashion.\n",
    "    \"\"\"\n",
    "    # Create a streaming response from OpenAI chat completions\n",
    "    stream = openai.chat.completions.create(\n",
    "        model    = openai_model,  # Specify the model to use\n",
    "        messages = [\n",
    "            {\"role\": \"system\", \"content\": system_prompt},  # System message to set the behavior\n",
    "            {\"role\": \"user\", \"content\": user_prompt}  # User message containing the user's input\n",
    "        ],\n",
    "        stream = True  # Enable streaming mode\n",
    "    )\n",
    "    \n",
    "    ans = \"\"\n",
    "    # Loop through each chunk of the stream and accumulate the response\n",
    "    for chunk in stream:\n",
    "        ans += chunk.choices[0].delta.content or \"\"  # Append the content of each chunk to the response\n",
    "        yield ans  # Yield the response as it's being generated\n",
    "\n",
    "def stream_claude(user_prompt):\n",
    "    \"\"\"\n",
    "    Function to generate a response from Claude model based on the provided user prompt.\n",
    "    \n",
    "    Args:\n",
    "    user_prompt (str): The user's input to be processed by Claude.\n",
    "\n",
    "    Returns:\n",
    "    str: The generated response from Claude model in a streaming fashion.\n",
    "    \"\"\"\n",
    "    # Create a streaming response from Claude's model\n",
    "    stream = claude.messages.stream(\n",
    "        model  = claude_model,  # Specify the Claude model to use\n",
    "        system = system_prompt,  # Set the system message to define the assistant's behavior\n",
    "        messages = [{\"role\": \"user\", \"content\": user_prompt}],  # User's input\n",
    "        max_tokens = 500,  # Set the maximum number of tokens for the response\n",
    "    )\n",
    "\n",
    "    ans = \"\"\n",
    "    # Stream the response text\n",
    "    with stream as chunk:\n",
    "        for text in chunk.text_stream:\n",
    "            ans += text or \"\"  # Append the text of each chunk to the response\n",
    "            yield ans  # Yield the response as it's being generated\n",
    "\n",
    "def stream_gemini(user_prompt):\n",
    "    \"\"\"\n",
    "    Function to generate a response from Gemini model based on the provided user prompt.\n",
    "    \n",
    "    Args:\n",
    "    user_prompt (str): The user's input to be processed by Gemini.\n",
    "\n",
    "    Returns:\n",
    "    str: The generated response from Gemini model in a streaming fashion.\n",
    "    \"\"\"\n",
    "    # Configure and initialize the Gemini model\n",
    "    config = google.generativeai.GenerativeModel(\n",
    "        model_name = gemini_model,  # Specify the Gemini model to use\n",
    "    )\n",
    "\n",
    "    prompt = f\"{system_prompt}\\n{user_prompt}\"  # Combine system prompt and user prompt\n",
    "    stream = config.generate_content(\n",
    "        prompt,\n",
    "        stream = True  # Enable streaming mode\n",
    "    )\n",
    "\n",
    "    ans = \"\"\n",
    "    # Loop through each chunk in the stream and accumulate the response\n",
    "    for chunk in stream:\n",
    "        ans += chunk.text or \"\"  # Append the text of each chunk to the response\n",
    "        yield ans  # Yield the response as it's being generated\n",
    "\n",
    "def stream_ollama(user_prompt):\n",
    "    \"\"\"\n",
    "    Function to generate a response from Ollama model based on the provided user prompt.\n",
    "    \n",
    "    Args:\n",
    "    user_prompt (str): The user's input to be processed by Ollama.\n",
    "\n",
    "    Returns:\n",
    "    str: The generated response from Ollama model in a streaming fashion.\n",
    "    \"\"\"\n",
    "    # Create a streaming response from Ollama's model\n",
    "    stream = ollama.chat(\n",
    "        model = ollama_model,  # Specify the Ollama model to use\n",
    "        messages = [\n",
    "            {\"role\": \"system\", \"content\": system_prompt},  # System message to set the behavior\n",
    "            {\"role\": \"user\", \"content\": user_prompt}  # User message containing the user's input\n",
    "        ],\n",
    "        stream = True  # Enable streaming mode\n",
    "    )\n",
    "\n",
    "    ans = \"\"\n",
    "    # Loop through each chunk and accumulate the response\n",
    "    for chunk in stream:\n",
    "        ans += chunk[\"message\"][\"content\"] or \"\"  # Append the content of each chunk to the response\n",
    "        yield ans  # Yield the response as it's being generated\n",
    "\n",
    "def model(user_prompt, model):\n",
    "    \"\"\"\n",
    "    Function to stream responses from different models based on the user's selection.\n",
    "\n",
    "    Args:\n",
    "    user_prompt (str): The user's input to be processed.\n",
    "    model (str): The selected model to process the input. Can be \"gpt\", \"claude\", \"gemini\", or \"ollama\".\n",
    "\n",
    "    Returns:\n",
    "    str: The generated response from the selected model in a streaming fashion.\n",
    "    \"\"\"\n",
    "    if model == \"gpt\":\n",
    "        # Call the OpenAI GPT model for response\n",
    "        result = stream_openai(user_prompt)\n",
    "    elif model == \"claude\":\n",
    "        # Call the Claude model for response\n",
    "        result = stream_claude(user_prompt)\n",
    "    elif model == \"gemini\":\n",
    "        # Call the Gemini model for response\n",
    "        result = stream_gemini(user_prompt)\n",
    "    elif model == \"ollama\":\n",
    "        # Call the Ollama model for response\n",
    "        result = stream_ollama(user_prompt)\n",
    "    else:\n",
    "        # Raise an error if the model is unknown\n",
    "        raise ValueError(\"Unknown Model\")\n",
    "    \n",
    "    # Yield the result in a streaming fashion\n",
    "    yield from result"
   ]
  },
  {
   "cell_type": "markdown",
   "metadata": {},
   "source": [
    "## Chat interface"
   ]
  },
  {
   "cell_type": "code",
   "execution_count": 4,
   "metadata": {},
   "outputs": [
    {
     "name": "stderr",
     "output_type": "stream",
     "text": [
      "C:\\Users\\52477\\AppData\\Local\\Packages\\PythonSoftwareFoundation.Python.3.9_qbz5n2kfra8p0\\LocalCache\\local-packages\\Python39\\site-packages\\gradio\\analytics.py:106: UserWarning: IMPORTANT: You are using gradio version 4.41.0, however version 4.44.1 is available, please upgrade. \n",
      "--------\n",
      "  warnings.warn(\n"
     ]
    },
    {
     "name": "stdout",
     "output_type": "stream",
     "text": [
      "Running on local URL:  http://127.0.0.1:7860\n",
      "\n",
      "To create a public link, set `share=True` in `launch()`.\n"
     ]
    },
    {
     "data": {
      "text/html": [
       "<div><iframe src=\"http://127.0.0.1:7860/\" width=\"100%\" height=\"500\" allow=\"autoplay; camera; microphone; clipboard-read; clipboard-write;\" frameborder=\"0\" allowfullscreen></iframe></div>"
      ],
      "text/plain": [
       "<IPython.core.display.HTML object>"
      ]
     },
     "metadata": {},
     "output_type": "display_data"
    },
    {
     "data": {
      "text/plain": []
     },
     "execution_count": 4,
     "metadata": {},
     "output_type": "execute_result"
    }
   ],
   "source": [
    "# Create a Gradio interface to interact with the models\n",
    "view = gr.Interface(\n",
    "    fn=model,  # The function to call for generating responses\n",
    "    inputs=[\n",
    "        gr.Textbox(label=\"Your message:\"),  # Input textbox for the user message\n",
    "        gr.Dropdown([\"gpt\", \"claude\", \"gemini\", \"ollama\"], label=\"Select a model:\", value=\"gpt\")  # Dropdown for model selection\n",
    "    ],\n",
    "    outputs=[gr.Markdown(label=\"Response:\")]  # Display the model's response as markdown\n",
    ")\n",
    "\n",
    "# Launch the interface\n",
    "view.launch()"
   ]
  }
 ],
 "metadata": {
  "interpreter": {
   "hash": "ef5b8d18e6fdfd933dcf2d87676eea39b16d717784d6db55cec332fd8bca603e"
  },
  "kernelspec": {
   "display_name": "Python 3.9.13 64-bit (windows store)",
   "language": "python",
   "name": "python3"
  },
  "language_info": {
   "codemirror_mode": {
    "name": "ipython",
    "version": 3
   },
   "file_extension": ".py",
   "mimetype": "text/x-python",
   "name": "python",
   "nbconvert_exporter": "python",
   "pygments_lexer": "ipython3",
   "version": "3.9.13"
  },
  "orig_nbformat": 4
 },
 "nbformat": 4,
 "nbformat_minor": 2
}
