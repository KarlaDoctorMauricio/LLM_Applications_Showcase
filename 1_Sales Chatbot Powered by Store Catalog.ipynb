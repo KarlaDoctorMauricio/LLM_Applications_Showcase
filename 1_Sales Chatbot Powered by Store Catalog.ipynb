{
 "cells": [
  {
   "cell_type": "markdown",
   "metadata": {},
   "source": [
    "# Sales Chatbot Powered by Store Catalog"
   ]
  },
  {
   "cell_type": "code",
   "execution_count": 1,
   "metadata": {},
   "outputs": [
    {
     "name": "stderr",
     "output_type": "stream",
     "text": [
      "C:\\Users\\52477\\AppData\\Local\\Packages\\PythonSoftwareFoundation.Python.3.9_qbz5n2kfra8p0\\LocalCache\\local-packages\\Python39\\site-packages\\tqdm\\auto.py:21: TqdmWarning: IProgress not found. Please update jupyter and ipywidgets. See https://ipywidgets.readthedocs.io/en/stable/user_install.html\n",
      "  from .autonotebook import tqdm as notebook_tqdm\n"
     ]
    }
   ],
   "source": [
    "from openai import OpenAI\n",
    "from dotenv import load_dotenv\n",
    "import os\n",
    "import gradio as gr\n",
    "import unicodedata\n",
    "import re"
   ]
  },
  {
   "cell_type": "markdown",
   "metadata": {},
   "source": [
    "## Configure api connections"
   ]
  },
  {
   "cell_type": "code",
   "execution_count": 2,
   "metadata": {},
   "outputs": [],
   "source": [
    "load_dotenv()\n",
    "openai  = os.getenv(\"OPENAI_API_KEY\")\n",
    "openai_model = \"gpt-4o-mini\"\n",
    "openai = OpenAI()"
   ]
  },
  {
   "cell_type": "markdown",
   "metadata": {},
   "source": [
    "## Product Catalog and Conversation Examples for Training"
   ]
  },
  {
   "cell_type": "code",
   "execution_count": 3,
   "metadata": {},
   "outputs": [],
   "source": [
    "# Examples of successful conversations to train the model\n",
    "COMPLETE_SALE = [\n",
    "    {\"role\": \"assistant\", \"content\": \"Hello, my name is Mercadito, what would you like to buy?\"},\n",
    "    {\"role\": \"user\", \"content\": \"Hello Mercadito, I want some red boots\"},\n",
    "    {\"role\": \"assistant\", \"content\": \"Would you prefer knee-high or ankle boots?\"},\n",
    "    {\"role\": \"user\", \"content\": \"Ankle boots size 4\"},\n",
    "    {\"role\": \"assistant\", \"content\": \"Great choice, the price is 350 MXN per pair\"}\n",
    "]\n",
    "\n",
    "# Examples of handling unavailable products\n",
    "UNAVAILABLE_SALE = [\n",
    "    {\"role\": \"assistant\", \"content\": \"Hello, my name is Mercadito, what would you like to buy?\"},\n",
    "    {\"role\": \"user\", \"content\": \"Hello Mercadito, I want a denim jacket\"},\n",
    "    {\"role\": \"assistant\", \"content\": \"At the moment, we only have shoes for women for all occasions in our catalog, would you like me to recommend an alternative?\"},\n",
    "    {\"role\": \"user\", \"content\": \"Thanks a lot Mercadito, but I was looking for a jacket\"},\n",
    "    {\"role\": \"assistant\", \"content\": \"Of course, I understand. Feel free to contact us for your next pair of boots\"}\n",
    "]\n",
    "\n",
    "# Product catalog and details\n",
    "PRODUCT_CONTEXT = {\n",
    "    'boots': \"\"\"For more context, the store sells boots:\n",
    "        - Colors: red, blue, purple, yellow, black\n",
    "        - Prices: 350 MXN (ankle), 500 MXN (knee-high)\"\"\",\n",
    "    \n",
    "    'sneakers': \"\"\"For more context, the store sells sneakers:\n",
    "        - 3cm heel: 200 MXN\n",
    "        - 5cm heel: 270 MXN\n",
    "        - 7cm heel: 500 MXN\n",
    "        - comfort: 350 MXN\n",
    "        - wedding: 700 MXN\"\"\",\n",
    "\n",
    "    'sandals': \"\"\"For more context, the store sells sandals:\n",
    "        - platform: 450 MXN\n",
    "        - low with rhinestones: 380 MXN\n",
    "        - sporty: 290 MXN\n",
    "        - beach: 200 MXN\"\"\",\n",
    "    \n",
    "    'tennis shoes': \"\"\"For more context, the store sells tennis shoes:\n",
    "        - running: 890 MXN\n",
    "        - casual: 650 MXN\n",
    "        - basketball: 950 MXN\n",
    "        - training: 780 MXN\"\"\"\n",
    "}\n"
   ]
  },
  {
   "cell_type": "markdown",
   "metadata": {},
   "source": [
    "## Text Preprocessing"
   ]
  },
  {
   "cell_type": "code",
   "execution_count": 4,
   "metadata": {},
   "outputs": [],
   "source": [
    "def remove_extra_spaces(text):\n",
    "    \"\"\"\n",
    "    Replace multiple spaces with a single space.\n",
    "    \n",
    "    Args:\n",
    "        text (str): The input string to process.\n",
    "        \n",
    "    Returns:\n",
    "        str: The processed string with single spaces.\n",
    "    \"\"\"\n",
    "    return re.sub(r'\\s+', ' ', text).strip()\n",
    "\n",
    "def remove_accents(text):\n",
    "    \"\"\"\n",
    "    Remove accents and diacritical marks from a text.\n",
    "    \n",
    "    Args:\n",
    "        text (str): The input string to process.\n",
    "        \n",
    "    Returns:\n",
    "        str: The processed string without accents.\n",
    "    \"\"\"\n",
    "    normalized_text = unicodedata.normalize('NFD', text)\n",
    "    return ''.join(\n",
    "        char for char in normalized_text if unicodedata.category(char) != 'Mn'\n",
    "    )\n",
    "\n",
    "def remove_special_characters(text):\n",
    "    \"\"\"\n",
    "    Remove special characters, leaving only letters, numbers, and spaces.\n",
    "    \n",
    "    Args:\n",
    "        text (str): The input string to process.\n",
    "        \n",
    "    Returns:\n",
    "        str: The processed string with only letters, numbers, and spaces.\n",
    "    \"\"\"\n",
    "    return re.sub(r'[^a-zA-Z0-9\\s]', '', text)\n",
    "\n",
    "def lower_case(text):\n",
    "    \"\"\"\n",
    "    Convert text to lowercase.\n",
    "    \n",
    "    Args:\n",
    "        text (str): The input string to process.\n",
    "        \n",
    "    Returns:\n",
    "        str: The processed string in lowercase.\n",
    "    \"\"\"\n",
    "    return text.lower()\n",
    "\n",
    "def preprocessing_text(text):\n",
    "    \"\"\"\n",
    "    Preprocess text in the following order:\n",
    "    1. Remove extra spaces.\n",
    "    2. Remove accents.\n",
    "    3. Remove special characters.\n",
    "    4. Convert to lowercase.\n",
    "    \n",
    "    Args:\n",
    "        text (str): The input string to preprocess.\n",
    "        \n",
    "    Returns:\n",
    "        str: The fully preprocessed string.\n",
    "    \"\"\"\n",
    "    text = remove_extra_spaces(text)\n",
    "    text = remove_accents(text)\n",
    "    text = remove_special_characters(text)\n",
    "    text = lower_case(text)\n",
    "    return text"
   ]
  },
  {
   "cell_type": "markdown",
   "metadata": {},
   "source": [
    "## Chat Message Processor"
   ]
  },
  {
   "cell_type": "code",
   "execution_count": 5,
   "metadata": {},
   "outputs": [],
   "source": [
    "class ChatProcessor:\n",
    "    def __init__(self, system: str, examples: list, product_context: dict):\n",
    "        \"\"\"\n",
    "        Initializes the ChatProcessor class.\n",
    "\n",
    "        Args:\n",
    "            system (str): System instructions.\n",
    "            examples (list): Conversation examples.\n",
    "            product_context (dict): Additional context related to products.\n",
    "        \"\"\"\n",
    "        self.system = system\n",
    "        self.examples = examples\n",
    "        self.product_context = product_context\n",
    "\n",
    "    def process_message(self, message: str, history= []):\n",
    "        \"\"\"\n",
    "        Processes a user message and generates responses.\n",
    "\n",
    "        Args:\n",
    "            message (str): User's message.\n",
    "            history (list): Conversation history.\n",
    "\n",
    "        Yields:\n",
    "            str: Real-time generated responses.\n",
    "        \"\"\"\n",
    "        # Preprocess the message\n",
    "        message = preprocessing_text(message)\n",
    "\n",
    "        # Create initial messages\n",
    "        messages = [{\"role\": \"system\", \"content\": self.system}] + self.examples + history + [\n",
    "            {\"role\": \"user\", \"content\": message}\n",
    "        ]\n",
    "\n",
    "        # Add additional context if the message contains products\n",
    "        for product, context in self.product_context.items():\n",
    "            if product in message:\n",
    "                messages.append({\"role\": \"system\", \"content\": context})\n",
    "\n",
    "        return messages\n"
   ]
  },
  {
   "cell_type": "markdown",
   "metadata": {},
   "source": [
    "## Process chat with gradio "
   ]
  },
  {
   "cell_type": "code",
   "execution_count": 6,
   "metadata": {},
   "outputs": [],
   "source": [
    "def process_chat_interface(messages, history):\n",
    "    \"\"\"\n",
    "    Processes the conversation with Gradio.\n",
    "\n",
    "    Args:\n",
    "        messages (list): List of recent messages.\n",
    "        history (list): Previous conversation history.\n",
    "\n",
    "    Returns:\n",
    "        list: Updated history with generated responses.\n",
    "    \"\"\"\n",
    "    messages = chat_processor.process_message(messages, history)\n",
    "\n",
    "    # Request response from the model\n",
    "    stream = openai.chat.completions.create(\n",
    "                model=openai_model,\n",
    "                messages=messages,\n",
    "                stream=True\n",
    "            )\n",
    "\n",
    "    # Process response in real-time\n",
    "    response = \"\"\n",
    "    for chunk in stream:\n",
    "        response += chunk.choices[0].delta.content or ''\n",
    "        yield response\n"
   ]
  },
  {
   "cell_type": "code",
   "execution_count": 7,
   "metadata": {},
   "outputs": [
    {
     "name": "stderr",
     "output_type": "stream",
     "text": [
      "C:\\Users\\52477\\AppData\\Local\\Packages\\PythonSoftwareFoundation.Python.3.9_qbz5n2kfra8p0\\LocalCache\\local-packages\\Python39\\site-packages\\gradio\\analytics.py:106: UserWarning: IMPORTANT: You are using gradio version 4.41.0, however version 4.44.1 is available, please upgrade. \n",
      "--------\n",
      "  warnings.warn(\n"
     ]
    },
    {
     "name": "stdout",
     "output_type": "stream",
     "text": [
      "Running on local URL:  http://127.0.0.1:7862\n",
      "\n",
      "To create a public link, set `share=True` in `launch()`.\n"
     ]
    },
    {
     "data": {
      "text/html": [
       "<div><iframe src=\"http://127.0.0.1:7862/\" width=\"100%\" height=\"500\" allow=\"autoplay; camera; microphone; clipboard-read; clipboard-write;\" frameborder=\"0\" allowfullscreen></iframe></div>"
      ],
      "text/plain": [
       "<IPython.core.display.HTML object>"
      ]
     },
     "metadata": {},
     "output_type": "display_data"
    },
    {
     "data": {
      "text/plain": []
     },
     "execution_count": 7,
     "metadata": {},
     "output_type": "execute_result"
    }
   ],
   "source": [
    "system_instructions = \"\"\"\n",
    "You are a virtual assistant for the prestigious footwear store **Mercadito Chic Shoes**, and your name is **Mercadito**.\n",
    "Your goal is to help customers find the perfect pair of shoes by offering products available in our catalog: {PRODUCT_CONTEXT}.\n",
    "\n",
    "When interacting with customers:\n",
    "1. Present our options clearly and attractively, highlighting the qualities of each product.\n",
    "2. At the end, mention the price of each item, emphasizing that it is **per pair of shoes**.\n",
    "3. If a customer requests a product that is not in our catalog, kindly respond, expressing regret that you cannot offer that specific item. However, reassure them that you are more than willing to help them find the best alternative that fits their needs.\n",
    "\n",
    "Remember, the customer experience should always be pleasant, trustworthy, and helpful.\n",
    "\"\"\"\n",
    "\n",
    "EXAMPLES_SALES = []\n",
    "EXAMPLES_SALES.extend(COMPLETE_SALE)\n",
    "EXAMPLES_SALES.extend(UNAVAILABLE_SALE)\n",
    "\n",
    "chat_processor = ChatProcessor(\n",
    "    system     = system_instructions,\n",
    "    examples   = EXAMPLES_SALES,\n",
    "    product_context = PRODUCT_CONTEXT\n",
    ")\n",
    "\n",
    "gr.ChatInterface(fn=process_chat_interface, type=\"messages\").launch()\n"
   ]
  }
 ],
 "metadata": {
  "interpreter": {
   "hash": "ef5b8d18e6fdfd933dcf2d87676eea39b16d717784d6db55cec332fd8bca603e"
  },
  "kernelspec": {
   "display_name": "Python 3.9.13 64-bit (windows store)",
   "language": "python",
   "name": "python3"
  },
  "language_info": {
   "codemirror_mode": {
    "name": "ipython",
    "version": 3
   },
   "file_extension": ".py",
   "mimetype": "text/x-python",
   "name": "python",
   "nbconvert_exporter": "python",
   "pygments_lexer": "ipython3",
   "version": "3.9.13"
  },
  "orig_nbformat": 4
 },
 "nbformat": 4,
 "nbformat_minor": 2
}
